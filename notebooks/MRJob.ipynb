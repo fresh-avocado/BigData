{
  "nbformat": 4,
  "nbformat_minor": 0,
  "metadata": {
    "colab": {
      "name": "Limpieza Hadoop.ipynb",
      "provenance": [],
      "collapsed_sections": []
    },
    "kernelspec": {
      "name": "python3",
      "display_name": "Python 3"
    },
    "language_info": {
      "name": "python"
    }
  },
  "cells": [
    {
      "cell_type": "code",
      "metadata": {
        "id": "DPw8JwqmNJq8",
        "colab": {
          "base_uri": "https://localhost:8080/"
        },
        "outputId": "07c27a72-224a-4f39-ca7d-71fd0bff7e85"
      },
      "source": [
        "!pip install mrjob"
      ],
      "execution_count": 39,
      "outputs": [
        {
          "output_type": "stream",
          "name": "stdout",
          "text": [
            "Requirement already satisfied: mrjob in /usr/local/lib/python3.7/dist-packages (0.7.4)\n",
            "Requirement already satisfied: PyYAML>=3.10 in /usr/local/lib/python3.7/dist-packages (from mrjob) (3.13)\n"
          ]
        }
      ]
    },
    {
      "cell_type": "code",
      "metadata": {
        "colab": {
          "base_uri": "https://localhost:8080/"
        },
        "id": "nTNHSzpRblon",
        "outputId": "6023f06c-e069-4630-e9b5-c90198e59946"
      },
      "source": [
        "from json import load\n",
        "import pandas as pd"
      ],
      "execution_count": 16,
      "outputs": [
        {
          "output_type": "stream",
          "name": "stdout",
          "text": [
            "[nltk_data] Downloading package punkt to /root/nltk_data...\n",
            "[nltk_data]   Package punkt is already up-to-date!\n",
            "[nltk_data] Downloading package stopwords to /root/nltk_data...\n",
            "[nltk_data]   Package stopwords is already up-to-date!\n"
          ]
        }
      ]
    },
    {
      "cell_type": "code",
      "metadata": {
        "colab": {
          "base_uri": "https://localhost:8080/"
        },
        "id": "MFhAmfzjblty",
        "outputId": "dc743515-6d10-4d6e-ee90-eeda64ba8f3e"
      },
      "source": [
        "from google.colab import drive\n",
        "drive.mount('/content/drive')"
      ],
      "execution_count": 3,
      "outputs": [
        {
          "output_type": "stream",
          "name": "stdout",
          "text": [
            "Mounted at /content/drive\n"
          ]
        }
      ]
    },
    {
      "cell_type": "code",
      "metadata": {
        "id": "mYpwYh4Aby9H"
      },
      "source": [
        "PATH ='/content/drive/MyDrive/Big Data/Proyecto/dataset'"
      ],
      "execution_count": 12,
      "outputs": []
    },
    {
      "cell_type": "code",
      "metadata": {
        "id": "DH4fngCWblG7"
      },
      "source": [
        "with open(PATH + '/MMHS150K_GT.json', 'r') as fp:\n",
        "  data = load(fp)"
      ],
      "execution_count": 61,
      "outputs": []
    },
    {
      "cell_type": "code",
      "metadata": {
        "colab": {
          "base_uri": "https://localhost:8080/",
          "height": 293
        },
        "id": "DlZksUkWdDhm",
        "outputId": "58818e70-0e4a-48be-e3d9-47f730a540f8"
      },
      "source": [
        "df = pd.DataFrame.from_dict(data, orient='index')\n",
        "df.head()"
      ],
      "execution_count": 19,
      "outputs": [
        {
          "output_type": "execute_result",
          "data": {
            "text/html": [
              "<div>\n",
              "<style scoped>\n",
              "    .dataframe tbody tr th:only-of-type {\n",
              "        vertical-align: middle;\n",
              "    }\n",
              "\n",
              "    .dataframe tbody tr th {\n",
              "        vertical-align: top;\n",
              "    }\n",
              "\n",
              "    .dataframe thead th {\n",
              "        text-align: right;\n",
              "    }\n",
              "</style>\n",
              "<table border=\"1\" class=\"dataframe\">\n",
              "  <thead>\n",
              "    <tr style=\"text-align: right;\">\n",
              "      <th></th>\n",
              "      <th>img_url</th>\n",
              "      <th>labels</th>\n",
              "      <th>tweet_url</th>\n",
              "      <th>tweet_text</th>\n",
              "      <th>labels_str</th>\n",
              "    </tr>\n",
              "  </thead>\n",
              "  <tbody>\n",
              "    <tr>\n",
              "      <th>1114679353714016256</th>\n",
              "      <td>http://pbs.twimg.com/tweet_video_thumb/D3gi9MH...</td>\n",
              "      <td>[4, 1, 3]</td>\n",
              "      <td>https://twitter.com/user/status/11146793537140...</td>\n",
              "      <td>@FriskDontMiss Nigga https://t.co/cAsaLWEpue</td>\n",
              "      <td>[Religion, Racist, Homophobe]</td>\n",
              "    </tr>\n",
              "    <tr>\n",
              "      <th>1063020048816660480</th>\n",
              "      <td>http://pbs.twimg.com/ext_tw_video_thumb/106301...</td>\n",
              "      <td>[5, 5, 5]</td>\n",
              "      <td>https://twitter.com/user/status/10630200488166...</td>\n",
              "      <td>My horses are retarded https://t.co/HYhqc6d5WN</td>\n",
              "      <td>[OtherHate, OtherHate, OtherHate]</td>\n",
              "    </tr>\n",
              "    <tr>\n",
              "      <th>1108927368075374593</th>\n",
              "      <td>http://pbs.twimg.com/media/D2OzhzHUwAADQjd.jpg</td>\n",
              "      <td>[0, 0, 0]</td>\n",
              "      <td>https://twitter.com/user/status/11089273680753...</td>\n",
              "      <td>“NIGGA ON MA MOMMA YOUNGBOY BE SPITTING REAL S...</td>\n",
              "      <td>[NotHate, NotHate, NotHate]</td>\n",
              "    </tr>\n",
              "    <tr>\n",
              "      <th>1114558534635618305</th>\n",
              "      <td>http://pbs.twimg.com/ext_tw_video_thumb/111401...</td>\n",
              "      <td>[1, 0, 0]</td>\n",
              "      <td>https://twitter.com/user/status/11145585346356...</td>\n",
              "      <td>RT xxSuGVNGxx: I ran into this HOLY NIGGA TODA...</td>\n",
              "      <td>[Racist, NotHate, NotHate]</td>\n",
              "    </tr>\n",
              "    <tr>\n",
              "      <th>1035252480215592966</th>\n",
              "      <td>http://pbs.twimg.com/media/Dl30pGIU8AAVGxO.jpg</td>\n",
              "      <td>[1, 0, 1]</td>\n",
              "      <td>https://twitter.com/user/status/10352524802155...</td>\n",
              "      <td>“EVERYbody calling you Nigger now!” https://t....</td>\n",
              "      <td>[Racist, NotHate, Racist]</td>\n",
              "    </tr>\n",
              "  </tbody>\n",
              "</table>\n",
              "</div>"
            ],
            "text/plain": [
              "                                                               img_url  ...                         labels_str\n",
              "1114679353714016256  http://pbs.twimg.com/tweet_video_thumb/D3gi9MH...  ...      [Religion, Racist, Homophobe]\n",
              "1063020048816660480  http://pbs.twimg.com/ext_tw_video_thumb/106301...  ...  [OtherHate, OtherHate, OtherHate]\n",
              "1108927368075374593     http://pbs.twimg.com/media/D2OzhzHUwAADQjd.jpg  ...        [NotHate, NotHate, NotHate]\n",
              "1114558534635618305  http://pbs.twimg.com/ext_tw_video_thumb/111401...  ...         [Racist, NotHate, NotHate]\n",
              "1035252480215592966     http://pbs.twimg.com/media/Dl30pGIU8AAVGxO.jpg  ...          [Racist, NotHate, Racist]\n",
              "\n",
              "[5 rows x 5 columns]"
            ]
          },
          "metadata": {},
          "execution_count": 19
        }
      ]
    },
    {
      "cell_type": "code",
      "metadata": {
        "id": "CjdD9nKPd3UI"
      },
      "source": [
        "df.to_csv(\"data.csv\", index=False, sep='∑')"
      ],
      "execution_count": 66,
      "outputs": []
    },
    {
      "cell_type": "code",
      "metadata": {
        "colab": {
          "base_uri": "https://localhost:8080/"
        },
        "id": "peBz_trSjrpH",
        "outputId": "bddadbbf-d59d-4e38-d617-06334134def7"
      },
      "source": [
        "!head data.csv"
      ],
      "execution_count": 67,
      "outputs": [
        {
          "output_type": "stream",
          "name": "stdout",
          "text": [
            "img_url∑labels∑tweet_url∑tweet_text∑labels_str\n",
            "http://pbs.twimg.com/tweet_video_thumb/D3gi9MHWAAAgfl7.jpg∑[4, 1, 3]∑https://twitter.com/user/status/1114679353714016256∑@FriskDontMiss Nigga https://t.co/cAsaLWEpue∑['Religion', 'Racist', 'Homophobe']\n",
            "http://pbs.twimg.com/ext_tw_video_thumb/1063019643709747200/pu/img/wK5HgoX6tFfxWJmi.jpg∑[5, 5, 5]∑https://twitter.com/user/status/1063020048816660480∑My horses are retarded https://t.co/HYhqc6d5WN∑['OtherHate', 'OtherHate', 'OtherHate']\n",
            "http://pbs.twimg.com/media/D2OzhzHUwAADQjd.jpg∑[0, 0, 0]∑https://twitter.com/user/status/1108927368075374593∑“NIGGA ON MA MOMMA YOUNGBOY BE SPITTING REAL SHIT NIGGA” https://t.co/UczofqHrLq∑['NotHate', 'NotHate', 'NotHate']\n",
            "http://pbs.twimg.com/ext_tw_video_thumb/1114018095348084738/pu/img/m6oP5fBm2RCcq5Wn.jpg∑[1, 0, 0]∑https://twitter.com/user/status/1114558534635618305∑RT xxSuGVNGxx: I ran into this HOLY NIGGA TODAY 😭😭😭😭 https://t.co/Wa6Spl9kIw∑['Racist', 'NotHate', 'NotHate']\n",
            "http://pbs.twimg.com/media/Dl30pGIU8AAVGxO.jpg∑[1, 0, 1]∑https://twitter.com/user/status/1035252480215592966∑“EVERYbody calling you Nigger now!” https://t.co/6mguJ6KIBF∑['Racist', 'NotHate', 'Racist']\n",
            "http://pbs.twimg.com/media/D1zG0qnX4AAw9SC.jpg∑[0, 0, 0]∑https://twitter.com/user/status/1106978219654303744∑“ real ass bitch give a fuck boutta nigga” https://t.co/YtyXf52oGi∑['NotHate', 'NotHate', 'NotHate']\n",
            "http://pbs.twimg.com/media/D3VwYEKW4AYz4vk.jpg∑[5, 1, 1]∑https://twitter.com/user/status/1113920043568463874∑@WhiteHouse @realDonaldTrump Fuck ice. White supremacist trash. All of you are racist garbage. https://t.co/o2OB4yUnex∑['OtherHate', 'Racist', 'Racist']\n",
            "http://pbs.twimg.com/media/D3fQcCCWAAIG8tO.jpg∑[0, 0, 0]∑https://twitter.com/user/status/1114588617693966336∑Day’s a cunt https://t.co/Ie6QZReHsw∑['NotHate', 'NotHate', 'NotHate']\n",
            "http://pbs.twimg.com/media/DoN2KFmXcAAIT-Y.jpg∑[3, 3, 0]∑https://twitter.com/user/status/1045809514740666370∑#sissy faggot https://t.co/bm1nk8HcYO∑['Homophobe', 'Homophobe', 'NotHate']\n"
          ]
        }
      ]
    },
    {
      "cell_type": "code",
      "metadata": {
        "colab": {
          "base_uri": "https://localhost:8080/"
        },
        "id": "_pqrGYmzde3V",
        "outputId": "2a3d31b3-4564-43c7-fb73-b7348a6163c2"
      },
      "source": [
        "!ls"
      ],
      "execution_count": 31,
      "outputs": [
        {
          "output_type": "stream",
          "name": "stdout",
          "text": [
            "clean_data.py  data.csv  drive\tsample_data\n"
          ]
        }
      ]
    },
    {
      "cell_type": "code",
      "metadata": {
        "colab": {
          "base_uri": "https://localhost:8080/"
        },
        "id": "TGJqAT9tKbZ1",
        "outputId": "21edfbc9-0cc2-4703-d917-115cf63fdf58"
      },
      "source": [
        "%%file clean_data.py\n",
        "from mrjob.job import MRJob\n",
        "from mrjob.step import MRStep\n",
        "import nltk\n",
        "from nltk.corpus import stopwords\n",
        "from nltk.stem import SnowballStemmer\n",
        "from nltk.tokenize import word_tokenize\n",
        "\n",
        "class MRDataCleansing(MRJob):\n",
        "  def __init__(self, *args, **kwargs):\n",
        "    super(MRDataCleansing, self).__init__(*args, **kwargs)\n",
        "    self._stopwords = set(stopwords.words(\"english\") + ['\\'', '’'])\n",
        "    self._sep = '∑'\n",
        "\n",
        "  def steps(self):\n",
        "    return [\n",
        "            MRStep(mapper=self.mapper, reducer=self.reducer)\n",
        "    ]\n",
        "\n",
        "  def limpiar(self, t):\n",
        "    without_links = ' '.join([word for word in t.split(' ') if word[:4] != 'http']) # quitar los links\n",
        "    tokens = word_tokenize(without_links) # tokenizar (dividir en tokens)\n",
        "    tokens = map(lambda token: token.encode('ascii', 'ignore').decode('ascii'), tokens) # quitar los emojis\n",
        "    tokens_without_sw = [word.lower() for word in tokens if word.isalpha() and not word in self._stopwords] # filtrar puntuacion y poner todo a minuscula\n",
        "    return ' '.join(tokens_without_sw)\n",
        "\n",
        "  def mapper(self, _, line):\n",
        "    if line == f'img_url{self._sep}labels{self._sep}tweet_url{self._sep}tweet_text{self._sep}labels_str':\n",
        "      yield None, line\n",
        "    else:\n",
        "      row_values = line.split(self._sep)\n",
        "      row_values[3] = self.limpiar(row_values[3])\n",
        "      yield None, self._sep.join(row_values)\n",
        "\n",
        "  def reducer(self, key, values):\n",
        "    for value in values:\n",
        "        yield None, value\n",
        "\n",
        "if __name__ == '__main__':\n",
        "  MRDataCleansing.run()"
      ],
      "execution_count": 79,
      "outputs": [
        {
          "output_type": "stream",
          "name": "stdout",
          "text": [
            "Overwriting clean_data.py\n"
          ]
        }
      ]
    },
    {
      "cell_type": "code",
      "metadata": {
        "colab": {
          "base_uri": "https://localhost:8080/"
        },
        "id": "JJDSPtv6M3IV",
        "outputId": "49d76103-a4e7-4aa7-9f81-2424da083029"
      },
      "source": [
        "!python3 clean_data.py -r local *.csv --output-dir=clean_data_out --no-output"
      ],
      "execution_count": 93,
      "outputs": [
        {
          "output_type": "stream",
          "name": "stdout",
          "text": [
            "No configs found; falling back on auto-configuration\n",
            "No configs specified for local runner\n",
            "Creating temp directory /tmp/clean_data.root.20211128.222526.204309\n",
            "Running step 1 of 1...\n",
            "tcmalloc: large alloc 2150473728 bytes == 0x5581c9986000 @  0x7fa8200f91e7 0x5581c8e8d718 0x5581c8e8c5a1 0x7fa81fad7bf7 0x5581c8e8d02a\n",
            "job output is in clean_data_out\n",
            "Removing temp directory /tmp/clean_data.root.20211128.222526.204309...\n"
          ]
        }
      ]
    },
    {
      "cell_type": "code",
      "metadata": {
        "id": "eshDL278D2ar",
        "colab": {
          "base_uri": "https://localhost:8080/"
        },
        "outputId": "12fcb198-d73e-489d-b099-a9244cfeb149"
      },
      "source": [
        "!ls"
      ],
      "execution_count": 81,
      "outputs": [
        {
          "output_type": "stream",
          "name": "stdout",
          "text": [
            "clean_data_out\tclean_data.py  data.csv  drive\tsample_data\n"
          ]
        }
      ]
    },
    {
      "cell_type": "code",
      "metadata": {
        "colab": {
          "base_uri": "https://localhost:8080/"
        },
        "id": "li278EESi7LA",
        "outputId": "af87f583-e4be-4407-f303-7029578082a2"
      },
      "source": [
        "!head -n 1 data.csv"
      ],
      "execution_count": 82,
      "outputs": [
        {
          "output_type": "stream",
          "name": "stdout",
          "text": [
            "img_url∑labels∑tweet_url∑tweet_text∑labels_str\n"
          ]
        }
      ]
    },
    {
      "cell_type": "markdown",
      "metadata": {
        "id": "51_ngQW0qw03"
      },
      "source": [
        "## Nota\n",
        "\n",
        "Como puede ver profesor, MRJob genera un archivo de la forma:\n",
        "\n",
        "`\"key1\"    \"value1\"`\n",
        "\n",
        "`\"key2\"    \"value2\"`\n",
        "\n",
        "`\"key3\"    \"value3\"`\n",
        "\n",
        "`...`\n",
        "\n",
        "Lo cual invalida el csv ya que se generaría un csv válido si MRJob genera el archivo de la forma:\n",
        "\n",
        "`value1`\n",
        "\n",
        "`value2`\n",
        "\n",
        "`value3`\n",
        "\n",
        "`...`\n",
        "\n",
        "Se generaría un csv válido, el cual ya tiene el texto de los tweets limpios."
      ]
    },
    {
      "cell_type": "code",
      "metadata": {
        "colab": {
          "base_uri": "https://localhost:8080/"
        },
        "id": "I51jt8gumRhY",
        "outputId": "207125d0-4fed-49de-dc61-d2ca17f158cd"
      },
      "source": [
        "!head -n 10 ./clean_data_out/part-00000"
      ],
      "execution_count": 94,
      "outputs": [
        {
          "output_type": "stream",
          "name": "stdout",
          "text": [
            "null\t\"img_url\\u2211labels\\u2211tweet_url\\u2211tweet_text\\u2211labels_str\"\n",
            "null\t\"http://pbs.twimg.com/tweet_video_thumb/D3gi9MHWAAAgfl7.jpg\\u2211[4, 1, 3]\\u2211https://twitter.com/user/status/1114679353714016256\\u2211friskdontmiss nigga\\u2211['Religion', 'Racist', 'Homophobe']\"\n",
            "null\t\"http://pbs.twimg.com/ext_tw_video_thumb/1063019643709747200/pu/img/wK5HgoX6tFfxWJmi.jpg\\u2211[5, 5, 5]\\u2211https://twitter.com/user/status/1063020048816660480\\u2211my horses retarded\\u2211['OtherHate', 'OtherHate', 'OtherHate']\"\n",
            "null\t\"http://pbs.twimg.com/media/D2OzhzHUwAADQjd.jpg\\u2211[0, 0, 0]\\u2211https://twitter.com/user/status/1108927368075374593\\u2211nigga on ma momma youngboy be spitting real shit nigga\\u2211['NotHate', 'NotHate', 'NotHate']\"\n",
            "null\t\"http://pbs.twimg.com/ext_tw_video_thumb/1114018095348084738/pu/img/m6oP5fBm2RCcq5Wn.jpg\\u2211[1, 0, 0]\\u2211https://twitter.com/user/status/1114558534635618305\\u2211rt xxsugvngxx i ran holy nigga today\\u2211['Racist', 'NotHate', 'NotHate']\"\n",
            "null\t\"http://pbs.twimg.com/media/Dl30pGIU8AAVGxO.jpg\\u2211[1, 0, 1]\\u2211https://twitter.com/user/status/1035252480215592966\\u2211everybody calling nigger\\u2211['Racist', 'NotHate', 'Racist']\"\n",
            "null\t\"http://pbs.twimg.com/media/D1zG0qnX4AAw9SC.jpg\\u2211[0, 0, 0]\\u2211https://twitter.com/user/status/1106978219654303744\\u2211real ass bitch give fuck boutta nigga\\u2211['NotHate', 'NotHate', 'NotHate']\"\n",
            "null\t\"http://pbs.twimg.com/media/D3VwYEKW4AYz4vk.jpg\\u2211[5, 1, 1]\\u2211https://twitter.com/user/status/1113920043568463874\\u2211whitehouse realdonaldtrump fuck ice white supremacist trash all racist garbage\\u2211['OtherHate', 'Racist', 'Racist']\"\n",
            "null\t\"http://pbs.twimg.com/media/D3fQcCCWAAIG8tO.jpg\\u2211[0, 0, 0]\\u2211https://twitter.com/user/status/1114588617693966336\\u2211day cunt\\u2211['NotHate', 'NotHate', 'NotHate']\"\n",
            "null\t\"http://pbs.twimg.com/media/DoN2KFmXcAAIT-Y.jpg\\u2211[3, 3, 0]\\u2211https://twitter.com/user/status/1045809514740666370\\u2211sissy faggot\\u2211['Homophobe', 'Homophobe', 'NotHate']\"\n"
          ]
        }
      ]
    },
    {
      "cell_type": "code",
      "metadata": {
        "id": "hQjFOIvxixSK"
      },
      "source": [
        "df = pd.read_csv('clean_data_out/part-00000', sep='∑')\n",
        "df.head()"
      ],
      "execution_count": null,
      "outputs": []
    },
    {
      "cell_type": "code",
      "metadata": {
        "id": "2nzDiccuks0-"
      },
      "source": [
        ""
      ],
      "execution_count": null,
      "outputs": []
    }
  ]
}